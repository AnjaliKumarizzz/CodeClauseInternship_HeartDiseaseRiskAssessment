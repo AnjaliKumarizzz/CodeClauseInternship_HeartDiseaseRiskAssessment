{
 "cells": [
  {
   "cell_type": "code",
   "execution_count": 107,
   "metadata": {},
   "outputs": [],
   "source": [
    "import pandas as pd\n",
    "#load dataset\n",
    "df = pd.read_csv(\"heart_disease_prediction.csv\")"
   ]
  },
  {
   "cell_type": "code",
   "execution_count": 108,
   "metadata": {},
   "outputs": [
    {
     "data": {
      "text/html": [
       "<div>\n",
       "<style scoped>\n",
       "    .dataframe tbody tr th:only-of-type {\n",
       "        vertical-align: middle;\n",
       "    }\n",
       "\n",
       "    .dataframe tbody tr th {\n",
       "        vertical-align: top;\n",
       "    }\n",
       "\n",
       "    .dataframe thead th {\n",
       "        text-align: right;\n",
       "    }\n",
       "</style>\n",
       "<table border=\"1\" class=\"dataframe\">\n",
       "  <thead>\n",
       "    <tr style=\"text-align: right;\">\n",
       "      <th></th>\n",
       "      <th>Age</th>\n",
       "      <th>Sex</th>\n",
       "      <th>ChestPainType</th>\n",
       "      <th>RestingBP</th>\n",
       "      <th>Cholesterol</th>\n",
       "      <th>FastingBS</th>\n",
       "      <th>RestingECG</th>\n",
       "      <th>MaxHR</th>\n",
       "      <th>ExerciseAngina</th>\n",
       "      <th>Oldpeak</th>\n",
       "      <th>ST_Slope</th>\n",
       "      <th>HeartDisease</th>\n",
       "    </tr>\n",
       "  </thead>\n",
       "  <tbody>\n",
       "    <tr>\n",
       "      <th>0</th>\n",
       "      <td>40</td>\n",
       "      <td>M</td>\n",
       "      <td>ATA</td>\n",
       "      <td>140</td>\n",
       "      <td>289</td>\n",
       "      <td>0</td>\n",
       "      <td>Normal</td>\n",
       "      <td>172</td>\n",
       "      <td>N</td>\n",
       "      <td>0.0</td>\n",
       "      <td>Up</td>\n",
       "      <td>0</td>\n",
       "    </tr>\n",
       "    <tr>\n",
       "      <th>1</th>\n",
       "      <td>49</td>\n",
       "      <td>F</td>\n",
       "      <td>NAP</td>\n",
       "      <td>160</td>\n",
       "      <td>180</td>\n",
       "      <td>0</td>\n",
       "      <td>Normal</td>\n",
       "      <td>156</td>\n",
       "      <td>N</td>\n",
       "      <td>1.0</td>\n",
       "      <td>Flat</td>\n",
       "      <td>1</td>\n",
       "    </tr>\n",
       "    <tr>\n",
       "      <th>2</th>\n",
       "      <td>37</td>\n",
       "      <td>M</td>\n",
       "      <td>ATA</td>\n",
       "      <td>130</td>\n",
       "      <td>283</td>\n",
       "      <td>0</td>\n",
       "      <td>ST</td>\n",
       "      <td>98</td>\n",
       "      <td>N</td>\n",
       "      <td>0.0</td>\n",
       "      <td>Up</td>\n",
       "      <td>0</td>\n",
       "    </tr>\n",
       "    <tr>\n",
       "      <th>3</th>\n",
       "      <td>48</td>\n",
       "      <td>F</td>\n",
       "      <td>ASY</td>\n",
       "      <td>138</td>\n",
       "      <td>214</td>\n",
       "      <td>0</td>\n",
       "      <td>Normal</td>\n",
       "      <td>108</td>\n",
       "      <td>Y</td>\n",
       "      <td>1.5</td>\n",
       "      <td>Flat</td>\n",
       "      <td>1</td>\n",
       "    </tr>\n",
       "    <tr>\n",
       "      <th>4</th>\n",
       "      <td>54</td>\n",
       "      <td>M</td>\n",
       "      <td>NAP</td>\n",
       "      <td>150</td>\n",
       "      <td>195</td>\n",
       "      <td>0</td>\n",
       "      <td>Normal</td>\n",
       "      <td>122</td>\n",
       "      <td>N</td>\n",
       "      <td>0.0</td>\n",
       "      <td>Up</td>\n",
       "      <td>0</td>\n",
       "    </tr>\n",
       "  </tbody>\n",
       "</table>\n",
       "</div>"
      ],
      "text/plain": [
       "   Age Sex ChestPainType  RestingBP  Cholesterol  FastingBS RestingECG  MaxHR  \\\n",
       "0   40   M           ATA        140          289          0     Normal    172   \n",
       "1   49   F           NAP        160          180          0     Normal    156   \n",
       "2   37   M           ATA        130          283          0         ST     98   \n",
       "3   48   F           ASY        138          214          0     Normal    108   \n",
       "4   54   M           NAP        150          195          0     Normal    122   \n",
       "\n",
       "  ExerciseAngina  Oldpeak ST_Slope  HeartDisease  \n",
       "0              N      0.0       Up             0  \n",
       "1              N      1.0     Flat             1  \n",
       "2              N      0.0       Up             0  \n",
       "3              Y      1.5     Flat             1  \n",
       "4              N      0.0       Up             0  "
      ]
     },
     "execution_count": 108,
     "metadata": {},
     "output_type": "execute_result"
    }
   ],
   "source": [
    "df.head()"
   ]
  },
  {
   "cell_type": "markdown",
   "metadata": {},
   "source": [
    "### Data Cleaning"
   ]
  },
  {
   "cell_type": "markdown",
   "metadata": {},
   "source": [
    "`df.isna()`: It returns a `new DataFrame` of the `same shape as df`, where each element is:\n",
    "- True if the value is NaN (missing),\n",
    "- False otherwise.\n",
    "\n",
    "`.sum()`:\n",
    "- When called on a DataFrame (df.isna()), .sum() calculates the sum along the specified axis.\n",
    "- `axis=0` (default): Adds values column-wise (down each column).\n",
    "- `axis=1`: Adds values row-wise (across each row)."
   ]
  },
  {
   "cell_type": "code",
   "execution_count": 109,
   "metadata": {},
   "outputs": [
    {
     "data": {
      "text/plain": [
       "Age               0\n",
       "Sex               0\n",
       "ChestPainType     0\n",
       "RestingBP         0\n",
       "Cholesterol       0\n",
       "FastingBS         0\n",
       "RestingECG        0\n",
       "MaxHR             0\n",
       "ExerciseAngina    0\n",
       "Oldpeak           0\n",
       "ST_Slope          0\n",
       "HeartDisease      0\n",
       "dtype: int64"
      ]
     },
     "execution_count": 109,
     "metadata": {},
     "output_type": "execute_result"
    }
   ],
   "source": [
    "df.isna().sum()"
   ]
  },
  {
   "cell_type": "code",
   "execution_count": 110,
   "metadata": {},
   "outputs": [
    {
     "name": "stdout",
     "output_type": "stream",
     "text": [
      "Age                 int64\n",
      "Sex                object\n",
      "ChestPainType      object\n",
      "RestingBP           int64\n",
      "Cholesterol         int64\n",
      "FastingBS           int64\n",
      "RestingECG         object\n",
      "MaxHR               int64\n",
      "ExerciseAngina     object\n",
      "Oldpeak           float64\n",
      "ST_Slope           object\n",
      "HeartDisease        int64\n",
      "dtype: object\n"
     ]
    },
    {
     "data": {
      "text/plain": [
       "int64      6\n",
       "object     5\n",
       "float64    1\n",
       "Name: count, dtype: int64"
      ]
     },
     "execution_count": 110,
     "metadata": {},
     "output_type": "execute_result"
    }
   ],
   "source": [
    "print(df.dtypes)\n",
    "df.dtypes.value_counts()"
   ]
  },
  {
   "cell_type": "markdown",
   "metadata": {},
   "source": [
    "We can see there are `5` categorical columns. However, two of the numerical features, `FastingBS` and `HeartDisease` are categorical as well. "
   ]
  },
  {
   "cell_type": "code",
   "execution_count": 111,
   "metadata": {},
   "outputs": [
    {
     "name": "stdout",
     "output_type": "stream",
     "text": [
      "Min and Max Values for Each Column:\n",
      "             Minimum  Maximum\n",
      "Age             28.0     77.0\n",
      "RestingBP        0.0    200.0\n",
      "Cholesterol      0.0    603.0\n",
      "MaxHR           60.0    202.0\n",
      "Oldpeak         -2.6      6.2\n"
     ]
    }
   ],
   "source": [
    "num_df = df[['Age', 'RestingBP', 'Cholesterol', 'MaxHR', 'Oldpeak']]\n",
    "\n",
    "# Find min and max for each column\n",
    "min_values = num_df.min()\n",
    "max_values = num_df.max()\n",
    "\n",
    "# Combine results into a new DataFrame\n",
    "min_max_df = pd.DataFrame({\n",
    "    'Minimum': min_values,\n",
    "    'Maximum': max_values\n",
    "})\n",
    "\n",
    "print(\"Min and Max Values for Each Column:\")\n",
    "print(min_max_df)\n"
   ]
  },
  {
   "cell_type": "code",
   "execution_count": 112,
   "metadata": {},
   "outputs": [
    {
     "name": "stdout",
     "output_type": "stream",
     "text": [
      "Cholesterol    172\n",
      "RestingBP        1\n",
      "dtype: int64\n"
     ]
    }
   ],
   "source": [
    "print((df[['Cholesterol', 'RestingBP']] == 0).sum())"
   ]
  },
  {
   "cell_type": "markdown",
   "metadata": {},
   "source": [
    "`df.loc[row_labels/boolean condition or mask, column_labels]`: If column_labels(Optional) are not provided, all columns are selected.\n",
    "- eg., df.loc[:, ['Age', 'Gender']]  # All rows, columns 'Age' and 'Gender'\n",
    "- df.loc[df['HeartDisease'] == 1]\n"
   ]
  },
  {
   "cell_type": "code",
   "execution_count": 113,
   "metadata": {},
   "outputs": [],
   "source": [
    "df_clean = df.copy()\n",
    "\n",
    "# only keep non-zero values for RestingBP\n",
    "df_clean = df_clean[df_clean[\"RestingBP\"] != 0]\n",
    "\n",
    "heartdisease_mask = df_clean[\"HeartDisease\"]==0\n",
    "\n",
    "cholesterol_without_heartdisease = df_clean.loc[heartdisease_mask, \"Cholesterol\"]\n",
    "cholesterol_with_heartdisease = df_clean.loc[~heartdisease_mask, \"Cholesterol\"]\n",
    "\n",
    "df_clean.loc[heartdisease_mask, \"Cholesterol\"] = cholesterol_without_heartdisease.replace(to_replace = 0, value = cholesterol_without_heartdisease.median())\n",
    "df_clean.loc[~heartdisease_mask, \"Cholesterol\"] = cholesterol_with_heartdisease.replace(to_replace = 0, value = cholesterol_with_heartdisease.median())"
   ]
  },
  {
   "cell_type": "code",
   "execution_count": 114,
   "metadata": {},
   "outputs": [
    {
     "data": {
      "image/png": "[encoded data removed]",
      "text/plain": [
       "<Figure size 800x500 with 1 Axes>"
      ]
     },
     "metadata": {},
     "output_type": "display_data"
    }
   ],
   "source": [
    "import pandas as pd\n",
    "import matplotlib.pyplot as plt\n",
    "\n",
    "\n",
    "# Extract the target variable column\n",
    "target = df_clean['HeartDisease']\n",
    "\n",
    "# Calculate the percentage distribution\n",
    "percentages = target.value_counts(normalize=True) * 100\n",
    "\n",
    "# Set a minimalist color palette\n",
    "colors = ['#4CAF50', '#FF7043']  # Green for No Disease, Coral Red for Disease\n",
    "\n",
    "# Plotting the class distribution with percentages\n",
    "plt.figure(figsize=(8, 5))\n",
    "ax = percentages.plot(kind='bar', color=colors, edgecolor='white', width=0.7)\n",
    "\n",
    "# Title and labels with clean font style\n",
    "plt.title('Heart Disease Distribution', fontsize=18, fontweight='bold', color='#2C3E50', pad=20)\n",
    "plt.xlabel('Heart Disease Status', fontsize=14, color='#34495E', labelpad=15)\n",
    "plt.ylabel('Percentage (%)', fontsize=14, color='#34495E', labelpad=15)\n",
    "\n",
    "# Adjusting x-ticks and y-ticks\n",
    "plt.xticks(ticks=[0, 1], labels=['No Heart Disease', 'Heart Disease'], rotation=0, fontsize=12, color='#34495E')\n",
    "plt.yticks(fontsize=12, color='#34495E')\n",
    "\n",
    "# Adding percentage values on top of the bars\n",
    "for i, v in enumerate(percentages):\n",
    "    ax.text(i, v + 1, f'{v:.2f}%', ha='center', va='bottom', fontweight='bold', fontsize=12, color='#2C3E50')\n",
    "\n",
    "# Adding gridlines and organizing the look\n",
    "plt.grid(axis='y', linestyle='--', linewidth=0.7, alpha=0.7, color='gray')\n",
    "\n",
    "# Adding a background color for the plot to enhance visual appeal\n",
    "plt.gca().set_facecolor('#ECF0F1')\n",
    "\n",
    "# Customizing tick marks and spines\n",
    "ax.spines['top'].set_visible(False)  # Remove top border\n",
    "ax.spines['right'].set_visible(False)  # Remove right border\n",
    "ax.spines['left'].set_color('#BDC3C7')  # Light gray for the left border\n",
    "ax.spines['bottom'].set_color('#BDC3C7')  # Light gray for the bottom border\n",
    "\n",
    "# Customizing the tick marks for better visibility\n",
    "ax.tick_params(axis='x', length=5, width=1, colors='#34495E')\n",
    "ax.tick_params(axis='y', length=5, width=1, colors='#34495E')\n",
    "\n",
    "# Adding legend to clarify colors\n",
    "custom_legend = [\n",
    "    plt.Line2D([0], [0], marker='s', color='w', markerfacecolor='#66BB6A', markersize=10, label='No Heart Disease'),\n",
    "    plt.Line2D([0], [0], marker='s', color='w', markerfacecolor='#EF5350', markersize=10, label='Heart Disease')\n",
    "]\n",
    "plt.legend(handles=custom_legend, fontsize=12, frameon=False, loc='upper right')\n",
    "\n",
    "\n",
    "# Tight layout for minimal space usage\n",
    "plt.tight_layout()\n",
    "\n",
    "# Show the plot\n",
    "plt.show()\n"
   ]
  },
  {
   "cell_type": "markdown",
   "metadata": {},
   "source": [
    "### Feature Engineering\n",
    "\n",
    "To work with Categorical variables, we should break each categorical column into dummy columns with 1s and 0s."
   ]
  },
  {
   "cell_type": "markdown",
   "metadata": {},
   "source": [
    "The `pd.get_dummies()` function in pandas is used to convert categorical (non-numeric) columns into dummy variables (also known as one-hot encoding). pd.get_dummies() creates one column for each unique category in the original categorical variable. Each unique category in a column is transformed into a separate column, where each column will have:\n",
    "\n",
    "- 1 if the row belongs to that category.\n",
    "- 0 if the row does not belong to that category.\n",
    "\n",
    "This is a way to represent categorical variables as binary (0 or 1) columns."
   ]
  },
  {
   "cell_type": "code",
   "execution_count": 115,
   "metadata": {},
   "outputs": [
    {
     "data": {
      "text/html": [
       "<div>\n",
       "<style scoped>\n",
       "    .dataframe tbody tr th:only-of-type {\n",
       "        vertical-align: middle;\n",
       "    }\n",
       "\n",
       "    .dataframe tbody tr th {\n",
       "        vertical-align: top;\n",
       "    }\n",
       "\n",
       "    .dataframe thead th {\n",
       "        text-align: right;\n",
       "    }\n",
       "</style>\n",
       "<table border=\"1\" class=\"dataframe\">\n",
       "  <thead>\n",
       "    <tr style=\"text-align: right;\">\n",
       "      <th></th>\n",
       "      <th>Age</th>\n",
       "      <th>RestingBP</th>\n",
       "      <th>Cholesterol</th>\n",
       "      <th>FastingBS</th>\n",
       "      <th>MaxHR</th>\n",
       "      <th>Oldpeak</th>\n",
       "      <th>HeartDisease</th>\n",
       "      <th>Sex_M</th>\n",
       "      <th>ChestPainType_ATA</th>\n",
       "      <th>ChestPainType_NAP</th>\n",
       "      <th>ChestPainType_TA</th>\n",
       "      <th>RestingECG_Normal</th>\n",
       "      <th>RestingECG_ST</th>\n",
       "      <th>ExerciseAngina_Y</th>\n",
       "      <th>ST_Slope_Flat</th>\n",
       "      <th>ST_Slope_Up</th>\n",
       "    </tr>\n",
       "  </thead>\n",
       "  <tbody>\n",
       "    <tr>\n",
       "      <th>0</th>\n",
       "      <td>40</td>\n",
       "      <td>140</td>\n",
       "      <td>289</td>\n",
       "      <td>0</td>\n",
       "      <td>172</td>\n",
       "      <td>0.0</td>\n",
       "      <td>0</td>\n",
       "      <td>True</td>\n",
       "      <td>True</td>\n",
       "      <td>False</td>\n",
       "      <td>False</td>\n",
       "      <td>True</td>\n",
       "      <td>False</td>\n",
       "      <td>False</td>\n",
       "      <td>False</td>\n",
       "      <td>True</td>\n",
       "    </tr>\n",
       "    <tr>\n",
       "      <th>1</th>\n",
       "      <td>49</td>\n",
       "      <td>160</td>\n",
       "      <td>180</td>\n",
       "      <td>0</td>\n",
       "      <td>156</td>\n",
       "      <td>1.0</td>\n",
       "      <td>1</td>\n",
       "      <td>False</td>\n",
       "      <td>False</td>\n",
       "      <td>True</td>\n",
       "      <td>False</td>\n",
       "      <td>True</td>\n",
       "      <td>False</td>\n",
       "      <td>False</td>\n",
       "      <td>True</td>\n",
       "      <td>False</td>\n",
       "    </tr>\n",
       "    <tr>\n",
       "      <th>2</th>\n",
       "      <td>37</td>\n",
       "      <td>130</td>\n",
       "      <td>283</td>\n",
       "      <td>0</td>\n",
       "      <td>98</td>\n",
       "      <td>0.0</td>\n",
       "      <td>0</td>\n",
       "      <td>True</td>\n",
       "      <td>True</td>\n",
       "      <td>False</td>\n",
       "      <td>False</td>\n",
       "      <td>False</td>\n",
       "      <td>True</td>\n",
       "      <td>False</td>\n",
       "      <td>False</td>\n",
       "      <td>True</td>\n",
       "    </tr>\n",
       "    <tr>\n",
       "      <th>3</th>\n",
       "      <td>48</td>\n",
       "      <td>138</td>\n",
       "      <td>214</td>\n",
       "      <td>0</td>\n",
       "      <td>108</td>\n",
       "      <td>1.5</td>\n",
       "      <td>1</td>\n",
       "      <td>False</td>\n",
       "      <td>False</td>\n",
       "      <td>False</td>\n",
       "      <td>False</td>\n",
       "      <td>True</td>\n",
       "      <td>False</td>\n",
       "      <td>True</td>\n",
       "      <td>True</td>\n",
       "      <td>False</td>\n",
       "    </tr>\n",
       "    <tr>\n",
       "      <th>4</th>\n",
       "      <td>54</td>\n",
       "      <td>150</td>\n",
       "      <td>195</td>\n",
       "      <td>0</td>\n",
       "      <td>122</td>\n",
       "      <td>0.0</td>\n",
       "      <td>0</td>\n",
       "      <td>True</td>\n",
       "      <td>False</td>\n",
       "      <td>True</td>\n",
       "      <td>False</td>\n",
       "      <td>True</td>\n",
       "      <td>False</td>\n",
       "      <td>False</td>\n",
       "      <td>False</td>\n",
       "      <td>True</td>\n",
       "    </tr>\n",
       "  </tbody>\n",
       "</table>\n",
       "</div>"
      ],
      "text/plain": [
       "   Age  RestingBP  Cholesterol  FastingBS  MaxHR  Oldpeak  HeartDisease  \\\n",
       "0   40        140          289          0    172      0.0             0   \n",
       "1   49        160          180          0    156      1.0             1   \n",
       "2   37        130          283          0     98      0.0             0   \n",
       "3   48        138          214          0    108      1.5             1   \n",
       "4   54        150          195          0    122      0.0             0   \n",
       "\n",
       "   Sex_M  ChestPainType_ATA  ChestPainType_NAP  ChestPainType_TA  \\\n",
       "0   True               True              False             False   \n",
       "1  False              False               True             False   \n",
       "2   True               True              False             False   \n",
       "3  False              False              False             False   \n",
       "4   True              False               True             False   \n",
       "\n",
       "   RestingECG_Normal  RestingECG_ST  ExerciseAngina_Y  ST_Slope_Flat  \\\n",
       "0               True          False             False          False   \n",
       "1               True          False             False           True   \n",
       "2              False           True             False          False   \n",
       "3               True          False              True           True   \n",
       "4               True          False             False          False   \n",
       "\n",
       "   ST_Slope_Up  \n",
       "0         True  \n",
       "1        False  \n",
       "2         True  \n",
       "3        False  \n",
       "4         True  "
      ]
     },
     "execution_count": 115,
     "metadata": {},
     "output_type": "execute_result"
    }
   ],
   "source": [
    "df_clean = pd.get_dummies(df_clean, drop_first=True)\n",
    "df_clean.head()"
   ]
  },
  {
   "cell_type": "markdown",
   "metadata": {},
   "source": [
    "### Feature Selection\n",
    "\n",
    "Use correlation analysis or techniques like Recursive Feature Elimination (RFE) to remove irrelevant or redundant features."
   ]
  },
  {
   "cell_type": "code",
   "execution_count": 116,
   "metadata": {},
   "outputs": [
    {
     "data": {
      "text/plain": [
       "<Axes: >"
      ]
     },
     "execution_count": 116,
     "metadata": {},
     "output_type": "execute_result"
    },
    {
     "data": {
      "image/png": "[encoded data removed]",
      "text/plain": [
       "<Figure size 800x600 with 2 Axes>"
      ]
     },
     "metadata": {},
     "output_type": "display_data"
    }
   ],
   "source": [
    "import matplotlib.pyplot as plt\n",
    "import seaborn as sns\n",
    "correlations = abs(df_clean.corr())\n",
    "plt.figure(figsize=(8, 6))\n",
    "#  sns.heatmap(correlations, annot=True, cmap=\"Blues\")\n",
    "sns.heatmap(correlations[correlations > 0.3], annot=True, cmap=\"Blues\")"
   ]
  },
  {
   "cell_type": "markdown",
   "metadata": {},
   "source": [
    "From our correlation heatmap, we can identify the following features to be positively correlated (correlation coefficient greater than 0.3) to `HeartDisease`:\n",
    "\n",
    "- `Oldpeak`\n",
    "- `MaxHR`\n",
    "- `ChestPainType_ATA` \n",
    "- `ExerciseAngina_Y`\n",
    "- `ST_Slope_Flat`\n",
    "- `ST_Slope_Up`"
   ]
  },
  {
   "cell_type": "markdown",
   "metadata": {},
   "source": [
    "### Modeling"
   ]
  },
  {
   "cell_type": "code",
   "execution_count": 117,
   "metadata": {},
   "outputs": [],
   "source": [
    "from sklearn.model_selection import train_test_split\n",
    "X = df_clean.drop([\"HeartDisease\"], axis=1)\n",
    "y = df_clean[\"HeartDisease\"]\n",
    "\n",
    "X_train, X_test, y_train, y_test = train_test_split(X, y, test_size=0.15, random_state = 417)\n",
    "\n",
    "features = [\n",
    "    \"Oldpeak\",\n",
    "    \"Sex_M\",\n",
    "    \"MaxHR\",\n",
    "    \"ChestPainType_ATA\",\n",
    "    \"ExerciseAngina_Y\",\n",
    "    \"ST_Slope_Flat\",\n",
    "    \"ST_Slope_Up\"\n",
    "]"
   ]
  },
  {
   "cell_type": "code",
   "execution_count": 118,
   "metadata": {},
   "outputs": [
    {
     "data": {
      "text/plain": [
       "Index(['Age', 'RestingBP', 'Cholesterol', 'FastingBS', 'MaxHR', 'Oldpeak',\n",
       "       'HeartDisease', 'Sex_M', 'ChestPainType_ATA', 'ChestPainType_NAP',\n",
       "       'ChestPainType_TA', 'RestingECG_Normal', 'RestingECG_ST',\n",
       "       'ExerciseAngina_Y', 'ST_Slope_Flat', 'ST_Slope_Up'],\n",
       "      dtype='object')"
      ]
     },
     "execution_count": 118,
     "metadata": {},
     "output_type": "execute_result"
    }
   ],
   "source": [
    "df_clean.columns\n"
   ]
  },
  {
   "cell_type": "code",
   "execution_count": 119,
   "metadata": {},
   "outputs": [],
   "source": [
    "# Feature Scaling\n",
    "from sklearn.preprocessing import MinMaxScaler\n",
    "scaler = MinMaxScaler()\n",
    "X_train_scaled = scaler.fit_transform(X_train[features])\n",
    "X_test_scaled = scaler.transform(X_test[features])"
   ]
  },
  {
   "cell_type": "markdown",
   "metadata": {},
   "source": [
    "### Addressing Class Imbalance\n",
    "If the dataset is imbalanced (e.g., more \"No Heart Disease\" than \"Heart Disease\"), resampling techniques can improve model performance:"
   ]
  },
  {
   "cell_type": "code",
   "execution_count": 120,
   "metadata": {},
   "outputs": [],
   "source": [
    "# Handling class imbalance using SMOTE\n",
    "from imblearn.over_sampling import SMOTE\n",
    "smote = SMOTE(random_state=42)\n",
    "X_resampled_train, y_resampled_train = smote.fit_resample(X_train_scaled, y_train)"
   ]
  },
  {
   "cell_type": "code",
   "execution_count": 121,
   "metadata": {},
   "outputs": [
    {
     "name": "stdout",
     "output_type": "stream",
     "text": [
      "Accuracy:  0.8333333333333334\n",
      "Precision:  0.863013698630137\n",
      "Recall:  0.8289473684210527\n",
      "F1-Score:  0.8456375838926175\n",
      "Accuracy: 83.33%\n",
      "\n",
      "Confusion Matrix:\n",
      "[[52 10]\n",
      " [13 63]]\n",
      "\n",
      "Explanation of Confusion Matrix:\n",
      "  True Negatives (TN): 52 - Correctly predicted 'No Heart Disease'\n",
      "  False Positives (FP): 10 - Incorrectly predicted 'Heart Disease' for cases without it\n",
      "  False Negatives (FN): 13 - Incorrectly predicted 'No Heart Disease' for cases with it\n",
      "  True Positives (TP): 63 - Correctly predicted 'Heart Disease'\n"
     ]
    }
   ],
   "source": [
    "from sklearn.ensemble import RandomForestClassifier\n",
    "from sklearn.metrics import accuracy_score, precision_score, recall_score, f1_score\n",
    "\n",
    "# Initialize and fit the RandomForest model\n",
    "rf_model = RandomForestClassifier(n_estimators=50, random_state=42)\n",
    "rf_model.fit(X_resampled_train, y_resampled_train)\n",
    "\n",
    "# Predict on the test set\n",
    "y_pred = rf_model.predict(X_test_scaled)\n",
    "\n",
    "# Calculate and print the evaluation metrics\n",
    "accuracy = accuracy_score(y_test, y_pred)\n",
    "print(\"Accuracy: \", accuracy)\n",
    "\n",
    "precision = precision_score(y_test, y_pred)\n",
    "print(\"Precision: \", precision)\n",
    "\n",
    "recall = recall_score(y_test, y_pred)\n",
    "print(\"Recall: \", recall)\n",
    "\n",
    "F1_score = f1_score(y_test, y_pred)\n",
    "print(\"F1-Score: \", F1_score)\n",
    "\n",
    "# Compute metrics\n",
    "accuracy = accuracy_score(y_test, y_pred)\n",
    "conf_matrix = confusion_matrix(y_test, y_pred)\n",
    "class_report = classification_report(y_test, y_pred, target_names=['No Heart Disease', 'Heart Disease'])\n",
    "\n",
    "# Extract confusion matrix elements\n",
    "tn, fp, fn, tp = conf_matrix.ravel()\n",
    "\n",
    "# Display results with explanation\n",
    "print(f\"Accuracy: {accuracy * 100:.2f}%\")\n",
    "print(\"\\nConfusion Matrix:\")\n",
    "print(conf_matrix)\n",
    "print(\"\\nExplanation of Confusion Matrix:\")\n",
    "print(f\"  True Negatives (TN): {tn} - Correctly predicted 'No Heart Disease'\")\n",
    "print(f\"  False Positives (FP): {fp} - Incorrectly predicted 'Heart Disease' for cases without it\")\n",
    "print(f\"  False Negatives (FN): {fn} - Incorrectly predicted 'No Heart Disease' for cases with it\")\n",
    "print(f\"  True Positives (TP): {tp} - Correctly predicted 'Heart Disease'\")"
   ]
  },
  {
   "cell_type": "markdown",
   "metadata": {},
   "source": [
    "### Hyperparameter Tuning"
   ]
  },
  {
   "cell_type": "code",
   "execution_count": 122,
   "metadata": {},
   "outputs": [],
   "source": [
    "from sklearn.model_selection import GridSearchCV\n",
    "\n",
    "param_grid = {\n",
    "    'n_estimators': [50, 100, 200],\n",
    "    'max_depth': [None, 10, 20, 30],\n",
    "    'min_samples_split': [2, 5, 10],\n",
    "    'min_samples_leaf': [1, 2, 4]\n",
    "}\n",
    "\n",
    "grid_search = GridSearchCV(estimator=RandomForestClassifier(random_state=42), param_grid=param_grid, \n",
    "                           scoring='recall', cv=5)\n",
    "grid_search.fit(X_resampled_train, y_resampled_train)\n",
    "RFCM_best_model = grid_search.best_estimator_\n"
   ]
  },
  {
   "cell_type": "code",
   "execution_count": 123,
   "metadata": {},
   "outputs": [],
   "source": [
    "y_pred = RFCM_best_model.predict(X_test_scaled)  # Make predictions using the best model\n"
   ]
  },
  {
   "cell_type": "code",
   "execution_count": 124,
   "metadata": {},
   "outputs": [
    {
     "name": "stdout",
     "output_type": "stream",
     "text": [
      "Accuracy:  0.8840579710144928\n",
      "Precision:  0.9166666666666666\n",
      "Recall:  0.868421052631579\n",
      "F1-Score:  0.8918918918918919\n"
     ]
    }
   ],
   "source": [
    "from sklearn.metrics import accuracy_score, precision_score, recall_score, f1_score\n",
    "\n",
    "accuracy = accuracy_score(y_test, y_pred)\n",
    "print(\"Accuracy: \", accuracy)\n",
    "\n",
    "precision = precision_score(y_test, y_pred)\n",
    "print(\"Precision: \", precision)\n",
    "\n",
    "recall = recall_score(y_test, y_pred)\n",
    "print(\"Recall: \", recall)\n",
    "\n",
    "F1_score = f1_score(y_test, y_pred)\n",
    "print(\"F1-Score: \", F1_score)\n"
   ]
  },
  {
   "cell_type": "code",
   "execution_count": 125,
   "metadata": {},
   "outputs": [
    {
     "name": "stdout",
     "output_type": "stream",
     "text": [
      "Best Parameters:  {'max_depth': 10, 'min_samples_leaf': 1, 'min_samples_split': 10, 'n_estimators': 50}\n"
     ]
    }
   ],
   "source": [
    "print(\"Best Parameters: \", grid_search.best_params_)\n"
   ]
  },
  {
   "cell_type": "code",
   "execution_count": 126,
   "metadata": {},
   "outputs": [
    {
     "name": "stdout",
     "output_type": "stream",
     "text": [
      "Mean Recall:  0.8514300989040364\n"
     ]
    }
   ],
   "source": [
    "from sklearn.model_selection import StratifiedKFold\n",
    "from sklearn.model_selection import cross_val_score\n",
    "\n",
    "skf = StratifiedKFold(n_splits=5, random_state=42, shuffle=True)\n",
    "cross_val_scores = cross_val_score(RFCM_best_model, X_resampled_train, y_resampled_train, cv=skf, scoring='recall')\n",
    "print(\"Mean Recall: \", cross_val_scores.mean())\n"
   ]
  },
  {
   "cell_type": "markdown",
   "metadata": {},
   "source": [
    "### Save the model"
   ]
  },
  {
   "cell_type": "code",
   "execution_count": 127,
   "metadata": {},
   "outputs": [
    {
     "data": {
      "text/plain": [
       "['random_forest_model.pkl']"
      ]
     },
     "execution_count": 127,
     "metadata": {},
     "output_type": "execute_result"
    }
   ],
   "source": [
    "import joblib\n",
    "joblib.dump(RFCM_best_model, 'random_forest_model.pkl')\n"
   ]
  },
  {
   "cell_type": "code",
   "execution_count": null,
   "metadata": {},
   "outputs": [],
   "source": [
    "from sklearn.linear_model import LogisticRegression\n",
    "\n",
    "# Initialize and train the logistic regression model\n",
    "# logistic_model = LogisticRegression(max_iter=1000, random_state=42)\n",
    "logistic_model = LogisticRegression(max_iter=1000, random_state=42, class_weight='balanced')\n",
    "logistic_model.fit(X_resampled_train, y_resampled_train)\n",
    "\n"
   ]
  },
  {
   "cell_type": "markdown",
   "metadata": {},
   "source": [
    "### Hyperparameter Tuning"
   ]
  },
  {
   "cell_type": "code",
   "execution_count": null,
   "metadata": {},
   "outputs": [],
   "source": [
    "from sklearn.model_selection import GridSearchCV\n",
    "from sklearn.linear_model import LogisticRegression\n",
    "\n",
    "param_grid = {\n",
    "    'C': [0.1, 1, 10, 100],  # Regularization strength\n",
    "    'solver': ['liblinear', 'saga']  # Optimization algorithm\n",
    "}\n",
    "\n",
    "grid_search = GridSearchCV(LogisticRegression(max_iter=1000, random_state=42, class_weight='balanced'), param_grid, cv=5, scoring='accuracy')\n",
    "grid_search.fit(X_resampled_train, y_resampled_train)\n",
    "\n",
    "print(\"Best Parameters:\", grid_search.best_params_)\n",
    "logistic_model = grid_search.best_estimator_\n"
   ]
  },
  {
   "cell_type": "code",
   "execution_count": null,
   "metadata": {},
   "outputs": [],
   "source": [
    "# Make predictions on the test set\n",
    "y_pred = logistic_model.predict(X_test_scaled)\n",
    "\n",
    "# Calculate and print the evaluation metrics\n",
    "accuracy = accuracy_score(y_test, y_pred)\n",
    "print(\"Accuracy: \", accuracy * 100)\n",
    "\n",
    "precision = precision_score(y_test, y_pred)\n",
    "print(\"Precision: \", precision * 100)\n",
    "\n",
    "recall = recall_score(y_test, y_pred)\n",
    "print(\"Recall: \", recall * 100)\n",
    "\n",
    "F1_score = f1_score(y_test, y_pred)\n",
    "print(\"F1-Score: \", F1_score * 100)\n",
    "\n",
    "from sklearn.metrics import accuracy_score, confusion_matrix, classification_report\n",
    "\n",
    "# Compute metrics\n",
    "accuracy = accuracy_score(y_test, y_pred)\n",
    "conf_matrix = confusion_matrix(y_test, y_pred)\n",
    "class_report = classification_report(y_test, y_pred, target_names=['No Heart Disease', 'Heart Disease'])\n",
    "\n",
    "# Extract confusion matrix elements\n",
    "tn, fp, fn, tp = conf_matrix.ravel()\n",
    "\n",
    "# Display results with explanation\n",
    "# print(f\"Accuracy: {accuracy * 100:.2f}%\")\n",
    "print(\"\\nConfusion Matrix:\")\n",
    "print(conf_matrix)\n",
    "print(\"\\nExplanation of Confusion Matrix:\")\n",
    "print(f\"  True Negatives (TN): {tn} - Correctly predicted 'No Heart Disease'\")\n",
    "print(f\"  False Positives (FP): {fp} - Incorrectly predicted 'Heart Disease' for cases without it\")\n",
    "print(f\"  False Negatives (FN): {fn} - Incorrectly predicted 'No Heart Disease' for cases with it\")\n",
    "print(f\"  True Positives (TP): {tp} - Correctly predicted 'Heart Disease'\")\n"
   ]
  },
  {
   "cell_type": "code",
   "execution_count": null,
   "metadata": {},
   "outputs": [],
   "source": [
    "from sklearn.neighbors import KNeighborsClassifier\n",
    "\n",
    "# Initialize the KNN classifier\n",
    "knn = KNeighborsClassifier(n_neighbors=5) \n",
    "\n",
    "# Train the KNN model\n",
    "knn.fit(X_resampled_train, y_resampled_train)\n",
    "\n",
    "# Make predictions on the test set\n",
    "y_pred = knn.predict(X_test_scaled)\n",
    "\n"
   ]
  },
  {
   "cell_type": "code",
   "execution_count": null,
   "metadata": {},
   "outputs": [],
   "source": [
    "# Calculate and print the evaluation metrics\n",
    "accuracy = accuracy_score(y_test, y_pred)\n",
    "print(\"Accuracy: \", accuracy * 100)\n",
    "\n",
    "precision = precision_score(y_test, y_pred)\n",
    "print(\"Precision: \", precision * 100)\n",
    "\n",
    "recall = recall_score(y_test, y_pred)\n",
    "print(\"Recall: \", recall * 100)\n",
    "\n",
    "F1_score = f1_score(y_test, y_pred)\n",
    "print(\"F1-Score: \", F1_score * 100)\n",
    "\n",
    "from sklearn.metrics import accuracy_score, confusion_matrix, classification_report\n",
    "\n",
    "# Compute metrics\n",
    "accuracy = accuracy_score(y_test, y_pred)\n",
    "conf_matrix = confusion_matrix(y_test, y_pred)\n",
    "# class_report = classification_report(y_test, y_pred, target_names=['No Heart Disease', 'Heart Disease'])\n",
    "\n",
    "# Extract confusion matrix elements\n",
    "tn, fp, fn, tp = conf_matrix.ravel()\n",
    "\n",
    "# Display results with explanation\n",
    "# print(f\"Accuracy: {accuracy * 100:.2f}%\")\n",
    "print(\"\\nConfusion Matrix:\")\n",
    "print(conf_matrix)\n",
    "print(\"\\nExplanation of Confusion Matrix:\")\n",
    "print(f\"  True Negatives (TN): {tn} - Correctly predicted 'No Heart Disease'\")\n",
    "print(f\"  False Positives (FP): {fp} - Incorrectly predicted 'Heart Disease' for cases without it\")\n",
    "print(f\"  False Negatives (FN): {fn} - Incorrectly predicted 'No Heart Disease' for cases with it\")\n",
    "print(f\"  True Positives (TP): {tp} - Correctly predicted 'Heart Disease'\")"
   ]
  },
  {
   "cell_type": "code",
   "execution_count": null,
   "metadata": {},
   "outputs": [],
   "source": [
    "# Hyperparameter tuning using GridSearchCV\n",
    "param_grid = {'n_neighbors': [3, 5, 7, 9, 11], \n",
    "              'weights': ['uniform', 'distance'],\n",
    "              'metric': ['euclidean', 'manhattan']}\n",
    "grid_search = GridSearchCV(knn, param_grid, cv=5, scoring='accuracy', verbose=1)\n",
    "grid_search.fit(X_resampled_train, y_resampled_train)\n",
    "\n",
    "# Best parameters from GridSearchCV\n",
    "print(\"Best parameters:\", grid_search.best_params_)\n",
    "\n",
    "# Train the model with the best parameters\n",
    "best_knn = grid_search.best_estimator_\n",
    "\n",
    "# Cross-validation to check the stability of the model\n",
    "cv_scores = cross_val_score(best_knn, X_resampled_train, y_resampled_train, cv=5, scoring='accuracy')\n",
    "print(f\"Cross-validation accuracy: {cv_scores.mean():.4f} ± {cv_scores.std():.4f}\")\n",
    "\n",
    "# Make predictions on the test set\n",
    "y_pred = best_knn.predict(X_test_scaled)"
   ]
  },
  {
   "cell_type": "code",
   "execution_count": null,
   "metadata": {},
   "outputs": [],
   "source": [
    "# Calculate and print the evaluation metrics\n",
    "accuracy = accuracy_score(y_test, y_pred)\n",
    "print(\"Accuracy: \", accuracy * 100)\n",
    "\n",
    "precision = precision_score(y_test, y_pred)\n",
    "print(\"Precision: \", precision * 100)\n",
    "\n",
    "recall = recall_score(y_test, y_pred)\n",
    "print(\"Recall: \", recall * 100)\n",
    "\n",
    "F1_score = f1_score(y_test, y_pred)\n",
    "print(\"F1-Score: \", F1_score * 100)\n",
    "\n",
    "from sklearn.metrics import accuracy_score, confusion_matrix, classification_report\n",
    "\n",
    "# Compute metrics\n",
    "accuracy = accuracy_score(y_test, y_pred)\n",
    "conf_matrix = confusion_matrix(y_test, y_pred)\n",
    "# class_report = classification_report(y_test, y_pred, target_names=['No Heart Disease', 'Heart Disease'])\n",
    "\n",
    "# Extract confusion matrix elements\n",
    "tn, fp, fn, tp = conf_matrix.ravel()\n",
    "\n",
    "# Display results with explanation\n",
    "# print(f\"Accuracy: {accuracy * 100:.2f}%\")\n",
    "print(\"\\nConfusion Matrix:\")\n",
    "print(conf_matrix)\n",
    "print(\"\\nExplanation of Confusion Matrix:\")\n",
    "print(f\"  True Negatives (TN): {tn} - Correctly predicted 'No Heart Disease'\")\n",
    "print(f\"  False Positives (FP): {fp} - Incorrectly predicted 'Heart Disease' for cases without it\")\n",
    "print(f\"  False Negatives (FN): {fn} - Incorrectly predicted 'No Heart Disease' for cases with it\")\n",
    "print(f\"  True Positives (TP): {tp} - Correctly predicted 'Heart Disease'\")"
   ]
  },
  {
   "cell_type": "code",
   "execution_count": null,
   "metadata": {},
   "outputs": [],
   "source": [
    "from sklearn.svm import SVC\n",
    "\n",
    "# Initialize the SVM model (you can adjust the kernel and other hyperparameters as needed)\n",
    "SVC_model = SVC(kernel='linear') \n",
    "\n",
    "# Train the model\n",
    "SVC_model.fit(X_resampled_train, y_resampled_train)\n",
    "\n",
    "# Make predictions\n",
    "y_pred = SVC_model.predict(X_test_scaled)\n"
   ]
  },
  {
   "cell_type": "code",
   "execution_count": null,
   "metadata": {},
   "outputs": [],
   "source": [
    "# Calculate and print the evaluation metrics\n",
    "accuracy = accuracy_score(y_test, y_pred)\n",
    "print(\"Accuracy: \", accuracy * 100)\n",
    "\n",
    "precision = precision_score(y_test, y_pred)\n",
    "print(\"Precision: \", precision * 100)\n",
    "\n",
    "recall = recall_score(y_test, y_pred)\n",
    "print(\"Recall: \", recall * 100)\n",
    "\n",
    "F1_score = f1_score(y_test, y_pred)\n",
    "print(\"F1-Score: \", F1_score * 100)\n",
    "\n",
    "from sklearn.metrics import accuracy_score, confusion_matrix, classification_report\n",
    "\n",
    "# Compute metrics\n",
    "accuracy = accuracy_score(y_test, y_pred)\n",
    "conf_matrix = confusion_matrix(y_test, y_pred)\n",
    "# class_report = classification_report(y_test, y_pred, target_names=['No Heart Disease', 'Heart Disease'])\n",
    "\n",
    "# Extract confusion matrix elements\n",
    "tn, fp, fn, tp = conf_matrix.ravel()\n",
    "\n",
    "# Display results with explanation\n",
    "# print(f\"Accuracy: {accuracy * 100:.2f}%\")\n",
    "print(\"\\nConfusion Matrix:\")\n",
    "print(conf_matrix)\n",
    "print(\"\\nExplanation of Confusion Matrix:\")\n",
    "print(f\"  True Negatives (TN): {tn} - Correctly predicted 'No Heart Disease'\")\n",
    "print(f\"  False Positives (FP): {fp} - Incorrectly predicted 'Heart Disease' for cases without it\")\n",
    "print(f\"  False Negatives (FN): {fn} - Incorrectly predicted 'No Heart Disease' for cases with it\")\n",
    "print(f\"  True Positives (TP): {tp} - Correctly predicted 'Heart Disease'\")"
   ]
  },
  {
   "cell_type": "code",
   "execution_count": null,
   "metadata": {},
   "outputs": [],
   "source": []
  }
 ],
 "metadata": {
  "kernelspec": {
   "display_name": "base",
   "language": "python",
   "name": "python3"
  },
  "language_info": {
   "codemirror_mode": {
    "name": "ipython",
    "version": 3
   },
   "file_extension": ".py",
   "mimetype": "text/x-python",
   "name": "python",
   "nbconvert_exporter": "python",
   "pygments_lexer": "ipython3",
   "version": "3.12.7"
  }
 },
 "nbformat": 4,
 "nbformat_minor": 2
}
